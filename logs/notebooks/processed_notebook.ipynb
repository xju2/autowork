{
 "cells": [
  {
   "cell_type": "code",
   "execution_count": 1,
   "id": "ca8fa653",
   "metadata": {
    "execution": {
     "iopub.execute_input": "2025-08-19T04:02:10.292174Z",
     "iopub.status.busy": "2025-08-19T04:02:10.292011Z",
     "iopub.status.idle": "2025-08-19T04:02:10.313966Z",
     "shell.execute_reply": "2025-08-19T04:02:10.313599Z"
    },
    "tags": [
     "snakemake-job-properties"
    ]
   },
   "outputs": [],
   "source": [
    "######## snakemake preamble start (automatically inserted, do not edit) ########\n",
    "import sys;sys.path.extend(['/home/runner/.local/lib/python3.12/site-packages', '/home/runner/work/autowork/autowork/workflow/rules', '/home/runner/work/autowork/autowork/workflow', '/home/runner/.local/bin', '/usr/lib/python3.12', '/usr/lib/python3.12/lib-dynload', '/home/runner/.local/lib/python3.12/site-packages', '/usr/local/lib/python3.12/dist-packages', '/usr/lib/python3/dist-packages', '/home/runner/.cache/snakemake/snakemake/source-cache/runtime-cache/tmprq_8gykm/file/home/runner/work/autowork/autowork/workflow/rules/../notebooks', '/home/runner/work/autowork/autowork/workflow/rules/../notebooks']);import pickle;from snakemake import script;script.snakemake = pickle.loads(b'\\x80\\x04\\x95\\x89\\x04\\x00\\x00\\x00\\x00\\x00\\x00\\x8c\\x10snakemake.script\\x94\\x8c\\tSnakemake\\x94\\x93\\x94)\\x81\\x94}\\x94(\\x8c\\x05input\\x94\\x8c\\x0csnakemake.io\\x94\\x8c\\nInputFiles\\x94\\x93\\x94)\\x81\\x94}\\x94(\\x8c\\x06_names\\x94}\\x94\\x8c\\x12_allowed_overrides\\x94]\\x94(\\x8c\\x05index\\x94\\x8c\\x04sort\\x94eh\\x0fh\\x06\\x8c\\x0eAttributeGuard\\x94\\x93\\x94)\\x81\\x94}\\x94\\x8c\\x04name\\x94h\\x0fsbh\\x10h\\x12)\\x81\\x94}\\x94h\\x15h\\x10sbub\\x8c\\x06output\\x94h\\x06\\x8c\\x0bOutputFiles\\x94\\x93\\x94)\\x81\\x94\\x8c\\thello.txt\\x94a}\\x94(h\\x0b}\\x94h\\r]\\x94(h\\x0fh\\x10eh\\x0fh\\x12)\\x81\\x94}\\x94h\\x15h\\x0fsbh\\x10h\\x12)\\x81\\x94}\\x94h\\x15h\\x10sbub\\x8c\\r_params_store\\x94h\\x06\\x8c\\x06Params\\x94\\x93\\x94)\\x81\\x94}\\x94(h\\x0b}\\x94h\\r]\\x94(h\\x0fh\\x10eh\\x0fh\\x12)\\x81\\x94}\\x94h\\x15h\\x0fsbh\\x10h\\x12)\\x81\\x94}\\x94h\\x15h\\x10sbub\\x8c\\r_params_types\\x94}\\x94\\x8c\\twildcards\\x94h\\x06\\x8c\\tWildcards\\x94\\x93\\x94)\\x81\\x94}\\x94(h\\x0b}\\x94h\\r]\\x94(h\\x0fh\\x10eh\\x0fh\\x12)\\x81\\x94}\\x94h\\x15h\\x0fsbh\\x10h\\x12)\\x81\\x94}\\x94h\\x15h\\x10sbub\\x8c\\x07threads\\x94K\\x01\\x8c\\tresources\\x94h\\x06\\x8c\\tResources\\x94\\x93\\x94)\\x81\\x94(K\\x01K\\x01\\x8c\\x04/tmp\\x94e}\\x94(h\\x0b}\\x94(\\x8c\\x06_cores\\x94K\\x00N\\x86\\x94\\x8c\\x06_nodes\\x94K\\x01N\\x86\\x94\\x8c\\x06tmpdir\\x94K\\x02N\\x86\\x94uh\\r]\\x94(h\\x0fh\\x10eh\\x0fh\\x12)\\x81\\x94}\\x94h\\x15h\\x0fsbh\\x10h\\x12)\\x81\\x94}\\x94h\\x15h\\x10sbhDK\\x01hFK\\x01hHhAub\\x8c\\x03log\\x94h\\x06\\x8c\\x03Log\\x94\\x93\\x94)\\x81\\x94\\x8c\\'logs/notebooks/processed_notebook.ipynb\\x94a}\\x94(h\\x0b}\\x94\\x8c\\x08notebook\\x94K\\x00N\\x86\\x94sh\\r]\\x94(h\\x0fh\\x10eh\\x0fh\\x12)\\x81\\x94}\\x94h\\x15h\\x0fsbh\\x10h\\x12)\\x81\\x94}\\x94h\\x15h\\x10sbhVhSub\\x8c\\x06config\\x94}\\x94(\\x8c\\x14athena_dev_container\\x94\\x8c!docexoty/alma9-atlasos-dev:latest\\x94\\x8c\\x18athena_dev_gpu_container\\x94\\x8c\\x18beojan/mpicuda9-2:latest\\x94\\x8c\\x0cml_container\\x94\\x8c\"docexoty/exatrkx:cuda12-pytorch2.6\\x94\\x8c\\x08max_evts\\x94K\\x01\\x8c\\x12nersc_project_name\\x94\\x8c\\x05m3443\\x94\\x8c\\x0fgitlab_username\\x94\\x8c\\x03xju\\x94\\x8c\\x07samples\\x94]\\x94(\\x8c\\x07MuonPU0\\x94\\x8c\\x0bElectronPU0\\x94\\x8c\\x07PionPU0\\x94eu\\x8c\\x04rule\\x94\\x8c\\x05hello\\x94\\x8c\\x0fbench_iteration\\x94N\\x8c\\tscriptdir\\x94\\x8c?/home/runner/work/autowork/autowork/workflow/rules/../notebooks\\x94ub.');del script;from snakemake.logging import logger;from snakemake.script import snakemake;import os; os.chdir(r'/home/runner/work/autowork/autowork');\n",
    "######## snakemake preamble end #########\n"
   ]
  },
  {
   "cell_type": "code",
   "execution_count": 2,
   "metadata": {
    "execution": {
     "iopub.execute_input": "2025-08-19T04:02:10.315476Z",
     "iopub.status.busy": "2025-08-19T04:02:10.315286Z",
     "iopub.status.idle": "2025-08-19T04:02:10.318393Z",
     "shell.execute_reply": "2025-08-19T04:02:10.317869Z"
    }
   },
   "outputs": [
    {
     "name": "stdout",
     "output_type": "stream",
     "text": [
      "Created hello.txt\n"
     ]
    }
   ],
   "source": [
    "# Create a simple hello world text file\n",
    "with open('hello.txt', 'w') as f:\n",
    "    f.write('Hello from autowork!\\n')\n",
    "    f.write('This is a HEP workflow based on Snakemake.\\n')\n",
    "print('Created hello.txt')"
   ]
  }
 ],
 "metadata": {
  "kernelspec": {
   "display_name": "Python 3",
   "language": "python",
   "name": "python3"
  },
  "language_info": {
   "codemirror_mode": {
    "name": "ipython",
    "version": 3
   },
   "file_extension": ".py",
   "mimetype": "text/x-python",
   "name": "python",
   "nbconvert_exporter": "python",
   "pygments_lexer": "ipython3",
   "version": "3.12.11"
  }
 },
 "nbformat": 4,
 "nbformat_minor": 4
}
